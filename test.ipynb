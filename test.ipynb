{
 "cells": [
  {
   "cell_type": "code",
   "execution_count": 2,
   "metadata": {},
   "outputs": [],
   "source": [
    "import sqlite3\n",
    "def create_db(db_name):\n",
    "    conn = sqlite3.connect(db_name)\n",
    "    cursor = conn.cursor()\n",
    "    cursor.execute('''CREATE TABLE IF NOT EXISTS numbers \n",
    "                      (id INTEGER PRIMARY KEY, number TEXT UNIQUE)''')\n",
    "    conn.commit()\n",
    "    conn.close()\n",
    "\n",
    "# Function to insert a new number into the database\n",
    "def insert_number(number,db_name):\n",
    "    conn = sqlite3.connect(db_name)\n",
    "    cursor = conn.cursor()\n",
    "    try:\n",
    "        cursor.execute(\"INSERT INTO numbers (number) VALUES (?)\", (number,))\n",
    "        conn.commit()\n",
    "    except sqlite3.IntegrityError:  # This happens if the number is already in the database\n",
    "        pass\n",
    "    conn.close()\n",
    "\n",
    "# Function to check if a number is already in the database\n",
    "def number_exists(number,db_name):\n",
    "    conn = sqlite3.connect(db_name)\n",
    "    cursor = conn.cursor()\n",
    "    cursor.execute(\"SELECT 1 FROM numbers WHERE number = ?\", (number,))\n",
    "    exists = cursor.fetchone() is not None\n",
    "    conn.close()\n",
    "    return exists"
   ]
  },
  {
   "cell_type": "code",
   "execution_count": 2,
   "metadata": {},
   "outputs": [
    {
     "name": "stderr",
     "output_type": "stream",
     "text": [
      "[2023-12-29 01:24:14] [INFO    ] discord.client: logging in using static token\n",
      "[2023-12-29 01:24:14] [INFO    ] discord.client: logging in using static token\n",
      "[2023-12-29 01:24:16] [INFO    ] discord.gateway: Shard ID None has connected to Gateway (Session ID: ec934cae26a9d342a1a7596bb897602a).\n",
      "[2023-12-29 01:24:16] [INFO    ] discord.gateway: Shard ID None has connected to Gateway (Session ID: ec934cae26a9d342a1a7596bb897602a).\n",
      "[2023-12-29 01:24:18] [ERROR   ] discord.client: Ignoring exception in on_ready\n",
      "Traceback (most recent call last):\n",
      "  File \"c:\\Users\\pari0\\anaconda3\\envs\\beta\\lib\\site-packages\\discord\\client.py\", line 441, in _run_event\n",
      "    await coro(*args, **kwargs)\n",
      "  File \"C:\\Users\\pari0\\AppData\\Local\\Temp\\ipykernel_12032\\3000520736.py\", line 19, in on_ready\n",
      "    await channel.send('Hello, Discord!')\n",
      "AttributeError: 'NoneType' object has no attribute 'send'\n",
      "[2023-12-29 01:24:18] [ERROR   ] discord.client: Ignoring exception in on_ready\n",
      "Traceback (most recent call last):\n",
      "  File \"c:\\Users\\pari0\\anaconda3\\envs\\beta\\lib\\site-packages\\discord\\client.py\", line 441, in _run_event\n",
      "    await coro(*args, **kwargs)\n",
      "  File \"C:\\Users\\pari0\\AppData\\Local\\Temp\\ipykernel_12032\\3000520736.py\", line 19, in on_ready\n",
      "    await channel.send('Hello, Discord!')\n",
      "AttributeError: 'NoneType' object has no attribute 'send'\n"
     ]
    },
    {
     "name": "stdout",
     "output_type": "stream",
     "text": [
      "Logged in as News_bot#3630\n"
     ]
    }
   ],
   "source": [
    "import discord\n",
    "import nest_asyncio\n",
    "from dotenv import load_dotenv\n",
    "\n",
    "load_dotenv() # You can put this wherever you want, but before retrieving the token\n",
    "\n",
    "nest_asyncio.apply()\n",
    "\n",
    "intents = discord.Intents.default()\n",
    "intents.messages = True\n",
    "intents.guilds = True\n",
    "\n",
    "client = discord.Client(intents=intents)\n",
    "\n",
    "@client.event\n",
    "async def on_ready():\n",
    "    print(f'Logged in as {client.user}')\n",
    "    channel = client.get_channel(1107305943936540772)  # Replace CHANNEL_ID with the ID of the channel you want to send a message to\n",
    "    await channel.send('Hello, Discord!')\n",
    "    await client.close()\n",
    "\n",
    "client.run('MTE4OTk1OTc5MDg1MjU3MTIxNw.GnhxkJ.tn1GY86zR8C-nwD13jTitOU8o4RN3_yFeXB1zo')  # Replace 'YOUR_BOT_TOKEN' with your bot's token\n"
   ]
  },
  {
   "cell_type": "code",
   "execution_count": 4,
   "metadata": {},
   "outputs": [
    {
     "name": "stderr",
     "output_type": "stream",
     "text": [
      "[2023-12-29 01:54:20] [INFO    ] discord.client: logging in using static token\n",
      "[2023-12-29 01:54:20] [INFO    ] discord.client: logging in using static token\n",
      "[2023-12-29 01:54:20] [INFO    ] discord.client: logging in using static token\n",
      "[2023-12-29 01:54:20] [INFO    ] discord.client: logging in using static token\n",
      "[2023-12-29 01:54:22] [INFO    ] discord.gateway: Shard ID None has connected to Gateway (Session ID: 66524cf643d90ba472b027924251d1b2).\n",
      "[2023-12-29 01:54:22] [INFO    ] discord.gateway: Shard ID None has connected to Gateway (Session ID: 66524cf643d90ba472b027924251d1b2).\n",
      "[2023-12-29 01:54:22] [INFO    ] discord.gateway: Shard ID None has connected to Gateway (Session ID: 66524cf643d90ba472b027924251d1b2).\n",
      "[2023-12-29 01:54:22] [INFO    ] discord.gateway: Shard ID None has connected to Gateway (Session ID: 66524cf643d90ba472b027924251d1b2).\n"
     ]
    },
    {
     "name": "stdout",
     "output_type": "stream",
     "text": [
      "None\n"
     ]
    }
   ],
   "source": [
    "import discord\n",
    "from discord.ext import commands\n",
    "import nest_asyncio\n",
    "\n",
    "nest_asyncio.apply()\n",
    "\n",
    "\n",
    "intents = discord.Intents.all()\n",
    "client = commands.Bot(command_prefix = 'bday ', intents = intents)\n",
    "\n",
    "@client.event\n",
    "async def on_ready():\n",
    "    channel = client.get_channel(1107305943936540772)\n",
    "    print(channel)\n",
    "\n",
    "client.run(\"MTE4OTk1OTc5MDg1MjU3MTIxNw.GnhxkJ.tn1GY86zR8C-nwD13jTitOU8o4RN3_yFeXB1zo\")"
   ]
  },
  {
   "cell_type": "code",
   "execution_count": 3,
   "metadata": {},
   "outputs": [
    {
     "name": "stderr",
     "output_type": "stream",
     "text": [
      "[2023-12-29 01:54:02] [INFO    ] discord.client: logging in using static token\n",
      "[2023-12-29 01:54:02] [INFO    ] discord.client: logging in using static token\n",
      "[2023-12-29 01:54:02] [INFO    ] discord.client: logging in using static token\n",
      "[2023-12-29 01:54:03] [INFO    ] discord.gateway: Shard ID None has connected to Gateway (Session ID: 1d786141b250aeb0e3587d1a933d51ca).\n",
      "[2023-12-29 01:54:03] [INFO    ] discord.gateway: Shard ID None has connected to Gateway (Session ID: 1d786141b250aeb0e3587d1a933d51ca).\n",
      "[2023-12-29 01:54:03] [INFO    ] discord.gateway: Shard ID None has connected to Gateway (Session ID: 1d786141b250aeb0e3587d1a933d51ca).\n",
      "[2023-12-29 01:54:05] [ERROR   ] discord.client: Ignoring exception in on_ready\n",
      "Traceback (most recent call last):\n",
      "  File \"c:\\Users\\pari0\\anaconda3\\envs\\beta\\lib\\site-packages\\discord\\client.py\", line 441, in _run_event\n",
      "    await coro(*args, **kwargs)\n",
      "  File \"C:\\Users\\pari0\\AppData\\Local\\Temp\\ipykernel_29844\\1884821600.py\", line 13, in on_ready\n",
      "    await channel.send('Hello, Discord!')\n",
      "AttributeError: 'NoneType' object has no attribute 'send'\n",
      "[2023-12-29 01:54:05] [ERROR   ] discord.client: Ignoring exception in on_ready\n",
      "Traceback (most recent call last):\n",
      "  File \"c:\\Users\\pari0\\anaconda3\\envs\\beta\\lib\\site-packages\\discord\\client.py\", line 441, in _run_event\n",
      "    await coro(*args, **kwargs)\n",
      "  File \"C:\\Users\\pari0\\AppData\\Local\\Temp\\ipykernel_29844\\1884821600.py\", line 13, in on_ready\n",
      "    await channel.send('Hello, Discord!')\n",
      "AttributeError: 'NoneType' object has no attribute 'send'\n",
      "[2023-12-29 01:54:05] [ERROR   ] discord.client: Ignoring exception in on_ready\n",
      "Traceback (most recent call last):\n",
      "  File \"c:\\Users\\pari0\\anaconda3\\envs\\beta\\lib\\site-packages\\discord\\client.py\", line 441, in _run_event\n",
      "    await coro(*args, **kwargs)\n",
      "  File \"C:\\Users\\pari0\\AppData\\Local\\Temp\\ipykernel_29844\\1884821600.py\", line 13, in on_ready\n",
      "    await channel.send('Hello, Discord!')\n",
      "AttributeError: 'NoneType' object has no attribute 'send'\n"
     ]
    },
    {
     "name": "stdout",
     "output_type": "stream",
     "text": [
      "Logged in as News_bot#3630\n"
     ]
    }
   ],
   "source": [
    "import discord\n",
    "import asyncio\n",
    "intents = discord.Intents.default()  # This sets up the intents object\n",
    "intents.messages = True  # We want the bot to listen to messages\n",
    "intents.guilds = True    # And also be aware of guilds (servers)\n",
    "\n",
    "client = discord.Client(intents=intents)\n",
    "\n",
    "@client.event\n",
    "async def on_ready():\n",
    "    print(f'Logged in as {client.user}')\n",
    "    channel = client.get_channel(1107305943936540772)  # Replace CHANNEL_ID with the ID of the channel you want to send a message to\n",
    "    await channel.send('Hello, Discord!')\n",
    "    await client.close()\n",
    "\n",
    "# Replace 'YOUR_BOT_TOKEN' with your bot's token\n",
    "client.run('MTE4OTk1OTc5MDg1MjU3MTIxNw.GnhxkJ.tn1GY86zR8C-nwD13jTitOU8o4RN3_yFeXB1zo')\n"
   ]
  },
  {
   "cell_type": "code",
   "execution_count": 14,
   "metadata": {},
   "outputs": [
    {
     "name": "stdout",
     "output_type": "stream",
     "text": [
      "https://www.dnews.co.kr/uhtml/view.jsp?idxno=202312281315196220822\n",
      "202312281315196220822\n",
      "https://www.dnews.co.kr/uhtml/view.jsp?idxno=202312281142039440785\n",
      "202312281142039440785\n",
      "https://www.dnews.co.kr/uhtml/view.jsp?idxno=202312271022155000372\n",
      "202312271022155000372\n",
      "https://www.dnews.co.kr/uhtml/view.jsp?idxno=202312261027132390006\n",
      "202312261027132390006\n",
      "https://www.dnews.co.kr/uhtml/view.jsp?idxno=202312221310513820535\n",
      "202312221310513820535\n",
      "https://www.dnews.co.kr/uhtml/view.jsp?idxno=202312211335000420184\n",
      "202312211335000420184\n",
      "https://www.dnews.co.kr/uhtml/view.jsp?idxno=202312201323563980669\n",
      "202312201323563980669\n",
      "https://www.dnews.co.kr/uhtml/view.jsp?idxno=202312200955227610575\n",
      "202312200955227610575\n",
      "https://www.dnews.co.kr/uhtml/view.jsp?idxno=202312191229372270312\n",
      "202312191229372270312\n",
      "https://www.dnews.co.kr/uhtml/view.jsp?idxno=202312190918562670113\n",
      "202312190918562670113\n"
     ]
    }
   ],
   "source": [
    "from selenium import webdriver\n",
    "import time\n",
    "from selenium.webdriver.common.by import By\n",
    "from selenium.webdriver.chrome.options import Options\n",
    "\n",
    "\n",
    "# Initialize the database\n",
    "create_db()\n",
    "\n",
    "# Initialize the WebDriver\n",
    "driver = webdriver.Chrome()\n",
    "\n",
    "# Open the webpage\n",
    "driver.get(\"https://www.dnews.co.kr/uhtml/view.jsp?idxno=202312281142039440785\")\n",
    "\n",
    "# Execute the JavaScript function\n",
    "driver.execute_script(\"gojournalF('박연오','koss9911')\")\n",
    "\n",
    "elements = driver.find_elements(By.CLASS_NAME, 'lineUse')\n",
    "\n",
    "for element in elements:\n",
    "    a_tags = element.find_elements(By.TAG_NAME, 'a')\n",
    "    for a_tag in a_tags:\n",
    "        href = a_tag.get_attribute('href')\n",
    "        print(href)\n",
    "        number_part = href.split('idxno=')[1]\n",
    "        print(number_part)\n",
    "        if not number_exists(number_part):\n",
    "            insert_number(number_part)\n",
    "\n",
    "\n",
    "# for element in elements:\n",
    "#     # print(element)\n",
    "#     print(element.text)\n",
    "    # input()\n",
    "try:\n",
    "    while True:\n",
    "        # Wait for 5 seconds\n",
    "        time.sleep(5)\n",
    "\n",
    "        # Refresh the page\n",
    "        driver.refresh()\n",
    "\n",
    "        # If you need to execute the JavaScript function again after each refresh, uncomment the next line\n",
    "        # driver.execute_script(\"gojournalF('박연오','koss9911')\")\n",
    "\n",
    "except KeyboardInterrupt:\n",
    "    # Close the browser when you manually stop the script\n",
    "    driver.quit()\n"
   ]
  },
  {
   "cell_type": "code",
   "execution_count": 3,
   "metadata": {},
   "outputs": [
    {
     "name": "stderr",
     "output_type": "stream",
     "text": [
      "[2023-12-30 15:11:52] [INFO    ] discord.client: logging in using static token\n",
      "[2023-12-30 15:11:54] [INFO    ] discord.gateway: Shard ID None has connected to Gateway (Session ID: 1021b250e2bdec340e64e5895b8db2a5).\n"
     ]
    },
    {
     "name": "stdout",
     "output_type": "stream",
     "text": [
      "Logged in as News_bot#3630\n"
     ]
    }
   ],
   "source": [
    "from selenium import webdriver\n",
    "from selenium.webdriver.common.by import By\n",
    "from selenium.webdriver.chrome.options import Options\n",
    "import discord\n",
    "import asyncio\n",
    "import nest_asyncio\n",
    "\n",
    "# Initialize the database (assuming create_db, insert_number, number_exists are defined)\n",
    "db_name = 'dnews.db'\n",
    "\n",
    "create_db(db_name)\n",
    "\n",
    "# Discord Bot setup\n",
    "nest_asyncio.apply()\n",
    "intents = discord.Intents.default()\n",
    "intents.messages = True\n",
    "intents.guilds = True\n",
    "client = discord.Client(intents=intents)\n",
    "\n",
    "# Function to send a message via Discord\n",
    "async def send_discord_message(message):\n",
    "    await client.wait_until_ready()  # Wait until the client is ready\n",
    "    channel = client.get_channel(1107305947921125452)  # Replace with your channel ID\n",
    "    if channel:\n",
    "        await channel.send(message)\n",
    "    else:\n",
    "        print(\"Channel not found or bot does not have access.\")\n",
    "\n",
    "# Selenium part to extract numbers\n",
    "async def extract_numbers():\n",
    "    # Initialize the WebDriver\n",
    "    driver = webdriver.Chrome()\n",
    "\n",
    "    # Open the webpage\n",
    "    driver.get(\"https://www.dnews.co.kr/uhtml/view.jsp?idxno=202312281142039440785\")\n",
    "\n",
    "    # Execute the JavaScript function\n",
    "    driver.execute_script(\"gojournalF('박연오','koss9911')\")\n",
    "\n",
    "\n",
    "    \n",
    "\n",
    "    elements = driver.find_elements(By.CLASS_NAME, 'lineUse')\n",
    "    for element in elements:\n",
    "        a_tags = element.find_elements(By.TAG_NAME, 'a')\n",
    "        for a_tag in a_tags:\n",
    "            href = a_tag.get_attribute('href')\n",
    "            number_part = href.split('idxno=')[1]\n",
    "            if not number_exists(number_part,db_name):\n",
    "                insert_number(number_part,db_name)\n",
    "                await send_discord_message(f'{href}')\n",
    "\n",
    "    driver.quit()\n",
    "\n",
    "# Run the Discord bot\n",
    "@client.event\n",
    "async def on_ready():\n",
    "    print(f'Logged in as {client.user}')\n",
    "    await extract_numbers()  # Run the Selenium script after logging in\n",
    "    await client.close()\n",
    "\n",
    "client.run('MTE4OTk1OTc5MDg1MjU3MTIxNw.GnhxkJ.tn1GY86zR8C-nwD13jTitOU8o4RN3_yFeXB1zo')  # Replace 'YOUR_BOT_TOKEN' with your bot's token\n"
   ]
  },
  {
   "cell_type": "code",
   "execution_count": null,
   "metadata": {},
   "outputs": [],
   "source": [
    "from selenium import webdriver\n",
    "from selenium.webdriver.common.by import By\n",
    "from selenium.webdriver.chrome.options import Options\n",
    "import discord\n",
    "import asyncio\n",
    "import nest_asyncio\n",
    "\n",
    "# Initialize the database (assuming create_db, insert_number, number_exists are defined)\n",
    "db_name = 'dnews.db'\n",
    "\n",
    "create_db(db_name)\n",
    "\n",
    "# Discord Bot setup\n",
    "nest_asyncio.apply()\n",
    "intents = discord.Intents.default()\n",
    "intents.messages = True\n",
    "intents.guilds = True\n",
    "client = discord.Client(intents=intents)\n",
    "\n",
    "# Function to send a message via Discord\n",
    "async def send_discord_message(message):\n",
    "    await client.wait_until_ready()  # Wait until the client is ready\n",
    "    channel = client.get_channel(1107305947921125452)  # Replace with your channel ID\n",
    "    if channel:\n",
    "        await channel.send(message)\n",
    "    else:\n",
    "        print(\"Channel not found or bot does not have access.\")\n",
    "\n",
    "# Selenium part to extract numbers\n",
    "async def extract_numbers():\n",
    "    # Initialize the WebDriver\n",
    "    driver = webdriver.Chrome()\n",
    "\n",
    "    # Open the webpage\n",
    "    driver.get(\"https://www.dnews.co.kr/uhtml/view.jsp?idxno=202312281142039440785\")\n",
    "\n",
    "    # Execute the JavaScript function\n",
    "    driver.execute_script(\"gojournalF('박연오','koss9911')\")\n",
    "\n",
    "    try : \n",
    "        while True : \n",
    "            elements = driver.find_elements(By.CLASS_NAME, 'lineUse')\n",
    "            for element in elements:\n",
    "                a_tags = element.find_elements(By.TAG_NAME, 'a')\n",
    "                for a_tag in a_tags:\n",
    "                    href = a_tag.get_attribute('href')\n",
    "                    number_part = href.split('idxno=')[1]\n",
    "                    if not number_exists(number_part,db_name):\n",
    "                        insert_number(number_part,db_name)\n",
    "                        await send_discord_message(f'{href}')\n",
    "            \n",
    "            await asyncio.sleep(5)\n",
    "            driver.refresh()\n",
    "\n",
    "    except KeyboardInterrupt : \n",
    "        driver.quit()\n",
    "\n",
    "# Run the Discord bot\n",
    "@client.event\n",
    "async def on_ready():\n",
    "    print(f'Logged in as {client.user}')\n",
    "    await extract_numbers()  # Run the Selenium script after logging in\n",
    "    await client.close()\n",
    "\n",
    "client.run('MTE4OTk1OTc5MDg1MjU3MTIxNw.GnhxkJ.tn1GY86zR8C-nwD13jTitOU8o4RN3_yFeXB1zo')  # Replace 'YOUR_BOT_TOKEN' with your bot's token\n"
   ]
  },
  {
   "cell_type": "code",
   "execution_count": 11,
   "metadata": {},
   "outputs": [
    {
     "data": {
      "text/plain": [
       "1157.6250000000002"
      ]
     },
     "execution_count": 11,
     "metadata": {},
     "output_type": "execute_result"
    }
   ],
   "source": [
    "(1.05)**3*1000"
   ]
  }
 ],
 "metadata": {
  "kernelspec": {
   "display_name": "beta",
   "language": "python",
   "name": "python3"
  },
  "language_info": {
   "codemirror_mode": {
    "name": "ipython",
    "version": 3
   },
   "file_extension": ".py",
   "mimetype": "text/x-python",
   "name": "python",
   "nbconvert_exporter": "python",
   "pygments_lexer": "ipython3",
   "version": "3.10.12"
  }
 },
 "nbformat": 4,
 "nbformat_minor": 2
}
